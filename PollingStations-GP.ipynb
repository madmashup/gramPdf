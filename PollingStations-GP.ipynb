{
 "cells": [
  {
   "cell_type": "code",
   "execution_count": 92,
   "metadata": {
    "collapsed": true
   },
   "outputs": [],
   "source": [
    "import numpy as np\n",
    "import pandas as pd"
   ]
  },
  {
   "cell_type": "code",
   "execution_count": 93,
   "metadata": {
    "collapsed": false
   },
   "outputs": [],
   "source": [
    "colnames = [\"PSName\", \"PSAddress\", \"GPAndWard1\", \"GPAndWard2\", \"GPAndWard3\"]\n",
    "data = pd.read_csv('pollingStations2011/1_KASARAGOD_MANJESHWAR.csv', names=colnames, delimiter=\"\\t\")"
   ]
  },
  {
   "cell_type": "code",
   "execution_count": 94,
   "metadata": {
    "collapsed": false
   },
   "outputs": [],
   "source": [
    "data[\"GPAndWard\"] =  data[[\"GPAndWard1\", \"GPAndWard2\", \"GPAndWard3\"]].fillna('').apply(lambda x: ' '.join(x), axis=1)"
   ]
  },
  {
   "cell_type": "code",
   "execution_count": 95,
   "metadata": {
    "collapsed": false
   },
   "outputs": [],
   "source": [
    "data.drop([\"GPAndWard1\", \"GPAndWard2\", \"GPAndWard3\"], axis=1, inplace=True)"
   ]
  },
  {
   "cell_type": "code",
   "execution_count": 96,
   "metadata": {
    "collapsed": false
   },
   "outputs": [],
   "source": [
    "data[\"PSName\"].fillna(method='ffill', axis=0, inplace=True)"
   ]
  },
  {
   "cell_type": "code",
   "execution_count": 97,
   "metadata": {
    "collapsed": false
   },
   "outputs": [
    {
     "data": {
      "text/html": [
       "<div>\n",
       "<table border=\"1\" class=\"dataframe\">\n",
       "  <thead>\n",
       "    <tr style=\"text-align: right;\">\n",
       "      <th></th>\n",
       "      <th>PSName</th>\n",
       "      <th>PSAddress</th>\n",
       "      <th>GPAndWard</th>\n",
       "    </tr>\n",
       "  </thead>\n",
       "  <tbody>\n",
       "    <tr>\n",
       "      <th>0</th>\n",
       "      <td>1.0</td>\n",
       "      <td>Govt Higher Secondary School Kunjathur(Eastern...</td>\n",
       "      <td>GP MANJESHWAR</td>\n",
       "    </tr>\n",
       "    <tr>\n",
       "      <th>1</th>\n",
       "      <td>1.0</td>\n",
       "      <td>Northern Side)</td>\n",
       "      <td>Ward No 1(Part) House No 333 to 625</td>\n",
       "    </tr>\n",
       "    <tr>\n",
       "      <th>2</th>\n",
       "      <td>2.0</td>\n",
       "      <td>Govt Higher Secondary School Kunjathur(Eastern...</td>\n",
       "      <td>GP MANJESHWAR</td>\n",
       "    </tr>\n",
       "    <tr>\n",
       "      <th>3</th>\n",
       "      <td>2.0</td>\n",
       "      <td>Southern Side)</td>\n",
       "      <td>Ward No 1(Part) House No 626 to 908, Ward No 2...</td>\n",
       "    </tr>\n",
       "    <tr>\n",
       "      <th>4</th>\n",
       "      <td>2.0</td>\n",
       "      <td>NaN</td>\n",
       "      <td>House 1 to 181, Ward No 11 part House No 501 t...</td>\n",
       "    </tr>\n",
       "    <tr>\n",
       "      <th>5</th>\n",
       "      <td>3.0</td>\n",
       "      <td>Govt Lower Primary School Kanwatheerthapadavu ...</td>\n",
       "      <td>GP MANJESHWAR</td>\n",
       "    </tr>\n",
       "    <tr>\n",
       "      <th>6</th>\n",
       "      <td>3.0</td>\n",
       "      <td>Old Building</td>\n",
       "      <td>Ward No 1 (Part) House No 1 To 225 .</td>\n",
       "    </tr>\n",
       "    <tr>\n",
       "      <th>7</th>\n",
       "      <td>4.0</td>\n",
       "      <td>Govt. Lower Primary School Kanwatheerthapadvu,...</td>\n",
       "      <td>GP MANJESHWAR</td>\n",
       "    </tr>\n",
       "    <tr>\n",
       "      <th>8</th>\n",
       "      <td>4.0</td>\n",
       "      <td>(New Building Middle Portion South Side)</td>\n",
       "      <td>Ward No 1 (Part) House No 226 To 332 . Ward No...</td>\n",
       "    </tr>\n",
       "    <tr>\n",
       "      <th>9</th>\n",
       "      <td>4.0</td>\n",
       "      <td>NaN</td>\n",
       "      <td>Part House No 425 To 500 .</td>\n",
       "    </tr>\n",
       "  </tbody>\n",
       "</table>\n",
       "</div>"
      ],
      "text/plain": [
       "   PSName                                          PSAddress  \\\n",
       "0     1.0  Govt Higher Secondary School Kunjathur(Eastern...   \n",
       "1     1.0                                     Northern Side)   \n",
       "2     2.0  Govt Higher Secondary School Kunjathur(Eastern...   \n",
       "3     2.0                                     Southern Side)   \n",
       "4     2.0                                                NaN   \n",
       "5     3.0  Govt Lower Primary School Kanwatheerthapadavu ...   \n",
       "6     3.0                                       Old Building   \n",
       "7     4.0  Govt. Lower Primary School Kanwatheerthapadvu,...   \n",
       "8     4.0           (New Building Middle Portion South Side)   \n",
       "9     4.0                                                NaN   \n",
       "\n",
       "                                           GPAndWard  \n",
       "0                                    GP MANJESHWAR    \n",
       "1              Ward No 1(Part) House No 333 to 625    \n",
       "2                                    GP MANJESHWAR    \n",
       "3  Ward No 1(Part) House No 626 to 908, Ward No 2...  \n",
       "4  House 1 to 181, Ward No 11 part House No 501 t...  \n",
       "5                                    GP MANJESHWAR    \n",
       "6             Ward No 1 (Part) House No 1 To 225 .    \n",
       "7                                    GP MANJESHWAR    \n",
       "8  Ward No 1 (Part) House No 226 To 332 . Ward No...  \n",
       "9                       Part House No 425 To 500 .    "
      ]
     },
     "execution_count": 97,
     "metadata": {},
     "output_type": "execute_result"
    }
   ],
   "source": [
    "data.head(10)"
   ]
  },
  {
   "cell_type": "markdown",
   "metadata": {
    "collapsed": false
   },
   "source": [
    "data = data.loc[data[\"PSName\"].str.isnumeric()].reset_index(drop=True)"
   ]
  },
  {
   "cell_type": "code",
   "execution_count": 98,
   "metadata": {
    "collapsed": false
   },
   "outputs": [],
   "source": [
    "data.fillna(\"\", inplace=True)"
   ]
  },
  {
   "cell_type": "markdown",
   "metadata": {},
   "source": [
    "data['PS'] = data[\"PSAddress\"] + data[\"GPAndWard\"]"
   ]
  },
  {
   "cell_type": "markdown",
   "metadata": {},
   "source": [
    "data.drop([\"PSAddress\", \"GPAndWard\"], inplace=True, axis=1)"
   ]
  },
  {
   "cell_type": "code",
   "execution_count": 99,
   "metadata": {
    "collapsed": false
   },
   "outputs": [],
   "source": [
    "data = pd.concat([data.groupby(\"PSName\", sort=False)['PSAddress'].apply(lambda x: ' '.join(x)), data.groupby(\"PSName\", sort=False)['GPAndWard'].apply(lambda x: ' '.join(x))], axis=1).reset_index()"
   ]
  },
  {
   "cell_type": "code",
   "execution_count": 106,
   "metadata": {
    "collapsed": false
   },
   "outputs": [],
   "source": [
    "data['PS'] = data[\"PSAddress\"] + data[\"GPAndWard\"]"
   ]
  },
  {
   "cell_type": "code",
   "execution_count": 107,
   "metadata": {
    "collapsed": false
   },
   "outputs": [],
   "source": [
    "data[\"PBAddress\"] = data[\"PS\"].str.extract(r'(.+)GP .*', expand=False)\n",
    "data[\"GP\"] = data[\"PS\"].str.extract(r'GP (\\w+)\\s+', expand=False)\n",
    "data[\"Ward\"] = data[\"PS\"].str.extract(r'(Ward .*)', expand=False)"
   ]
  },
  {
   "cell_type": "code",
   "execution_count": 110,
   "metadata": {
    "collapsed": false
   },
   "outputs": [
    {
     "data": {
      "text/plain": [
       "'Ward No11 (Part) House No 262 To 619 . '"
      ]
     },
     "execution_count": 110,
     "metadata": {},
     "output_type": "execute_result"
    }
   ],
   "source": [
    "data.ix[90, \"Ward\"]"
   ]
  },
  {
   "cell_type": "code",
   "execution_count": null,
   "metadata": {
    "collapsed": true
   },
   "outputs": [],
   "source": []
  }
 ],
 "metadata": {
  "anaconda-cloud": {},
  "kernelspec": {
   "display_name": "Python [conda root]",
   "language": "python",
   "name": "conda-root-py"
  },
  "language_info": {
   "codemirror_mode": {
    "name": "ipython",
    "version": 3
   },
   "file_extension": ".py",
   "mimetype": "text/x-python",
   "name": "python",
   "nbconvert_exporter": "python",
   "pygments_lexer": "ipython3",
   "version": "3.5.2"
  }
 },
 "nbformat": 4,
 "nbformat_minor": 2
}
